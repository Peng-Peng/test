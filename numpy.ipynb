{
 "cells": [
  {
   "cell_type": "code",
   "execution_count": 2,
   "metadata": {},
   "outputs": [],
   "source": [
    "import numpy as np"
   ]
  },
  {
   "cell_type": "code",
   "execution_count": 4,
   "metadata": {},
   "outputs": [],
   "source": [
    "np?"
   ]
  },
  {
   "cell_type": "markdown",
   "metadata": {},
   "source": [
    "<h2>Most Important to Remember</h2>\n",
    "\n",
    "Numpy's main dta object is **ndarray** - a.k.a n-dimensional array.\n",
    "\n",
    "Remember that unlike Python lists, NumPy is constrained to arrays that **all contain the same type**. "
   ]
  },
  {
   "cell_type": "code",
   "execution_count": 30,
   "metadata": {},
   "outputs": [
    {
     "name": "stdout",
     "output_type": "stream",
     "text": [
      "[1 4 2 5 3]\n",
      "[3.14 4.   2.   3.  ]\n",
      "[3.14 4.   2.   3.  ]\n"
     ]
    }
   ],
   "source": [
    "print(np.array([1, 4, 2, 5, 3]))\n",
    "\n",
    "#If types do not match, NumPy will upcast if possible (here, integers are up-cast to floating point):\n",
    "print(np.array([3.14, 4, 2, 3])) \n",
    "\n",
    "#If we want to explicitly set the data type of the resulting array, we can use the dtype keyword:\n",
    "print(np.array([3.14, 4, 2, 3], dtype='float32'))"
   ]
  },
  {
   "cell_type": "markdown",
   "metadata": {},
   "source": [
    "Finally, unlike Python lists, NumPy arrays can explicitly be multi-dimensional; here's one way of initializing a multidimensional array using a list of lists:"
   ]
  },
  {
   "cell_type": "code",
   "execution_count": 9,
   "metadata": {},
   "outputs": [
    {
     "data": {
      "text/plain": [
       "array([[2, 3, 4],\n",
       "       [4, 5, 6],\n",
       "       [6, 7, 8]])"
      ]
     },
     "execution_count": 9,
     "metadata": {},
     "output_type": "execute_result"
    }
   ],
   "source": [
    "# nested lists result in multi-dimensional arrays\n",
    "np.array([range(i, i + 3) for i in [2, 4, 6]])"
   ]
  },
  {
   "cell_type": "markdown",
   "metadata": {},
   "source": [
    "<h2>Basic Array Manipulation Demo </h2>\n",
    "\n",
    "- Attributes of arrays: Determining the size, shape, memory consumption, and data types of arrays\n",
    "- Indexing of arrays: Getting and setting the value of individual array elements\n",
    "- Slicing of arrays: Getting and setting smaller subarrays within a larger array\n",
    "- Reshaping of arrays: Changing the shape of a given array\n",
    "- Joining and splitting of arrays: Combining multiple arrays into one, and splitting one array into many"
   ]
  },
  {
   "cell_type": "code",
   "execution_count": 12,
   "metadata": {},
   "outputs": [],
   "source": [
    "np.random.seed(0)  # seed for reproducibility\n",
    "\n",
    "x1 = np.random.randint(10, size=6)  # One-dimensional array\n",
    "x2 = np.random.randint(10, size=(3, 4))  # Two-dimensional array\n",
    "x3 = np.random.randint(10, size=(3, 4, 5))  # Three-dimensional array"
   ]
  },
  {
   "cell_type": "code",
   "execution_count": 24,
   "metadata": {},
   "outputs": [
    {
     "name": "stdout",
     "output_type": "stream",
     "text": [
      "ndim:  3\n",
      "shape: (3, 4, 5)\n",
      "size:  60\n",
      "dtype: int64\n",
      "itemsize: 8 bytes\n",
      "nbytes: 480 bytes\n"
     ]
    }
   ],
   "source": [
    "print(\"ndim: \", x3.ndim)  # number of dimension\n",
    "print(\"shape:\", x3.shape) # shape = size of each dimention\n",
    "print(\"size: \", x3.size)  # 3*4*5 =  total size\n",
    "print(\"dtype:\",    x3.dtype)   #dateypte of the array\n",
    "print(\"itemsize:\", x3.itemsize, \"bytes\") #lists the size (in bytes) of each array element\n",
    "print(\"nbytes:\",   x3.nbytes, \"bytes\") # total size = 8 bytes * 60 items = 480bytes"
   ]
  },
  {
   "cell_type": "markdown",
   "metadata": {},
   "source": [
    "<h3>Array Indexing</h3>"
   ]
  },
  {
   "cell_type": "code",
   "execution_count": 26,
   "metadata": {},
   "outputs": [
    {
     "name": "stdout",
     "output_type": "stream",
     "text": [
      "[5 0 3 3 7 9]\n",
      "5\n",
      "9\n",
      "7\n"
     ]
    }
   ],
   "source": [
    "# In a one-dimensional array, \n",
    "# the ith value (counting from zero) can be accessed by specifying the desired index in square brackets, just as with Python lists:\n",
    "print(x1)\n",
    "print(x1[0])\n",
    "print(x1[-1]) # negative index form the end of the array\n",
    "print(x1[-2]) "
   ]
  },
  {
   "cell_type": "code",
   "execution_count": 32,
   "metadata": {},
   "outputs": [
    {
     "name": "stdout",
     "output_type": "stream",
     "text": [
      "[[3 5 2 4]\n",
      " [7 6 8 8]\n",
      " [1 6 7 7]]\n",
      "3\n",
      "7\n"
     ]
    }
   ],
   "source": [
    "#In a multi-dimensional array\n",
    "#items can be accessed using a comma-separated tuple of indices:\n",
    "print(x2)\n",
    "print(x2[0,0])\n",
    "print(x2[2,-1])"
   ]
  },
  {
   "cell_type": "markdown",
   "metadata": {},
   "source": [
    "<h3> Array Slicing</h3>\n",
    "\n",
    "we can also use square bracket to access subarrays with the slice notation, marked by the colon (:) character. \n",
    "The NumPy slicing syntax follows that of the standard Python list; to access a slice of an array x, use this:\n",
    "\n",
    "`x[start:stop:step]`\n",
    "\n",
    "If any of these are unspecified, they default to the values `start=0, stop=size of dimension, step=1`. We'll take a look at accessing sub-arrays in one dimension and in multiple dimensions."
   ]
  },
  {
   "cell_type": "code",
   "execution_count": 41,
   "metadata": {},
   "outputs": [
    {
     "name": "stdout",
     "output_type": "stream",
     "text": [
      "[0 1 2 3 4 5 6 7 8 9]\n",
      "[0 1 2 3]\n",
      "[0 2]\n",
      "[0 1 2 3 4]\n",
      "[5 6 7 8 9]\n"
     ]
    }
   ],
   "source": [
    "x1 = np.arange(10)\n",
    "\n",
    "print(x1)\n",
    "print(x1[0:4])\n",
    "print(x1[0:4:2])\n",
    "\n",
    "print(x1[:5]) # till index 5\n",
    "print(x1[5:]) # start from index 5"
   ]
  },
  {
   "cell_type": "code",
   "execution_count": 59,
   "metadata": {},
   "outputs": [
    {
     "name": "stdout",
     "output_type": "stream",
     "text": [
      "[0 1 2 3 4 5 6 7 8 9]\n",
      "[9 8 7 6 5 4 3 2 1 0]\n",
      "[]\n",
      "[5 4 3]\n"
     ]
    }
   ],
   "source": [
    "# a useful trick to reverse array\n",
    "# when the step value is negative. \n",
    "# the defaults for start and stop are swapped.\n",
    "\n",
    "print(x1)\n",
    "print(x1[::-1])  # all elements, reversed\n",
    "print(x1[5:2])\n",
    "print(x1[5:2:-1])  # reversed every other from index 5"
   ]
  },
  {
   "cell_type": "code",
   "execution_count": 50,
   "metadata": {},
   "outputs": [
    {
     "name": "stdout",
     "output_type": "stream",
     "text": [
      "[[3 5 2 4]\n",
      " [7 6 8 8]\n",
      " [1 6 7 7]]\n",
      "[[6 8]\n",
      " [6 7]]\n"
     ]
    }
   ],
   "source": [
    "# Multi dimensional array\n",
    "print(x2)\n",
    "print(x2[1:,1:3]) #dim 1:[1:], dim 2[1:3]"
   ]
  },
  {
   "cell_type": "markdown",
   "metadata": {},
   "source": [
    "*Note*: Array slices in Numpy (in contrast to in Python) are **views** rather than copies of the array data.\n",
    "Mocifying the slice will also modify the original arrays."
   ]
  },
  {
   "cell_type": "code",
   "execution_count": 63,
   "metadata": {},
   "outputs": [
    {
     "name": "stdout",
     "output_type": "stream",
     "text": [
      "[[3 5 2 4]\n",
      " [7 6 8 8]\n",
      " [1 6 7 7]]\n",
      "[[3 5]\n",
      " [7 6]]\n",
      "[[3 5]\n",
      " [7 6]]\n",
      "[[42  5]\n",
      " [ 7  6]]\n",
      "[[3 5 2 4]\n",
      " [7 6 8 8]\n",
      " [1 6 7 7]]\n"
     ]
    }
   ],
   "source": [
    "print(x2)\n",
    "x2_sub_view = x2[:2,:2]\n",
    "# use .copy() to make a copy of the view\n",
    "x2_sub_copy = x2[:2, :2].copy()\n",
    "\n",
    "print(x2_sub_view)\n",
    "print(x2_sub_copy)\n",
    "\n",
    "\n",
    "\n",
    "x2_sub_copy[0, 0] = 42\n",
    "print(x2_sub_copy)\n",
    "print(x2)"
   ]
  },
  {
   "cell_type": "markdown",
   "metadata": {},
   "source": [
    "<h2>Universal Functions： How to efficitenly operate Arrays </h2>\n",
    "\n",
    "The key to making Numpy Computation fast is to use *vectorized operations*, generally implemented through NumPy's universal functions (ufuncs). \n",
    "也就是直接在array上操作，而不是for loop"
   ]
  },
  {
   "cell_type": "code",
   "execution_count": null,
   "metadata": {},
   "outputs": [],
   "source": []
  }
 ],
 "metadata": {
  "kernelspec": {
   "display_name": "Python 3 (ipykernel)",
   "language": "python",
   "name": "python3"
  },
  "language_info": {
   "codemirror_mode": {
    "name": "ipython",
    "version": 3
   },
   "file_extension": ".py",
   "mimetype": "text/x-python",
   "name": "python",
   "nbconvert_exporter": "python",
   "pygments_lexer": "ipython3",
   "version": "3.8.13"
  }
 },
 "nbformat": 4,
 "nbformat_minor": 2
}
